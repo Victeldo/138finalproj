{
 "cells": [
  {
   "cell_type": "code",
   "execution_count": 1,
   "metadata": {
    "ExecuteTime": {
     "end_time": "2023-12-20T03:13:10.363071Z",
     "start_time": "2023-12-20T03:13:08.165886Z"
    }
   },
   "outputs": [
    {
     "name": "stderr",
     "output_type": "stream",
     "text": [
      "ERROR: Invalid requirement: \"'gym[atari]'\"\n"
     ]
    }
   ],
   "source": [
    "# !pip install tensorflow gym keras-rl gym[atari]\n",
    "!pip install tensorflow gym keras-rl 'gym[atari]' 'gym[accept-rom-license]' opencv-python\n",
    "# !pip install opencv-python"
   ]
  },
  {
   "cell_type": "code",
   "execution_count": 2,
   "metadata": {
    "ExecuteTime": {
     "end_time": "2023-12-20T03:13:14.227434Z",
     "start_time": "2023-12-20T03:13:10.364646Z"
    }
   },
   "outputs": [
    {
     "name": "stdout",
     "output_type": "stream",
     "text": [
      "WARNING:tensorflow:From c:\\Users\\micha\\anaconda3\\Lib\\site-packages\\keras\\src\\losses.py:2976: The name tf.losses.sparse_softmax_cross_entropy is deprecated. Please use tf.compat.v1.losses.sparse_softmax_cross_entropy instead.\n",
      "\n"
     ]
    }
   ],
   "source": [
    "#necessary imports\n",
    "import gym \n",
    "import random\n",
    "import numpy as np\n",
    "import tensorflow as tf\n",
    "from tensorflow import keras\n",
    "from tensorflow.keras import layers\n",
    "import cv2"
   ]
  },
  {
   "cell_type": "markdown",
   "metadata": {},
   "source": [
    "Pre-proccessing "
   ]
  },
  {
   "cell_type": "code",
   "execution_count": 127,
   "metadata": {
    "ExecuteTime": {
     "end_time": "2023-12-20T03:13:14.230560Z",
     "start_time": "2023-12-20T03:13:14.228149Z"
    }
   },
   "outputs": [],
   "source": [
    "#function that takes a frame from the game, crops it to 84X84, and puts it in\n",
    "# gray scale, used to reduce dimensionality and speed up learning\n",
    "def resize_frame(frame):\n",
    "    frame = np.average(frame,axis = 2)\n",
    "    frame = frame[30:-5,:]\n",
    "    frame = cv2.resize(frame,(84,84),interpolation = cv2.INTER_NEAREST)\n",
    "    frame = np.array(frame,dtype = np.uint8)\n",
    "    frame = np.expand_dims(frame, axis=-1)\n",
    "    frame = np.repeat(frame, 3, axis=-1)\n",
    "    return frame"
   ]
  },
  {
   "cell_type": "markdown",
   "metadata": {},
   "source": [
    "Class For Memory Buffer"
   ]
  },
  {
   "cell_type": "code",
   "execution_count": 172,
   "metadata": {
    "ExecuteTime": {
     "end_time": "2023-12-20T03:13:14.233909Z",
     "start_time": "2023-12-20T03:13:14.231925Z"
    }
   },
   "outputs": [],
   "source": [
    "#class for storing experiences of the agent. Has a fixed size that when it\n",
    "#reaches the end of, it overwrites what was at the start\n",
    "class Memory(object):\n",
    "    def __init__(self, input_shape, buffer_size, batch_size):\n",
    "        self.states = np.zeros((buffer_size,) + input_shape)\n",
    "        self.next_states = np.zeros((buffer_size,) + input_shape)\n",
    "        self.actions = np.zeros(buffer_size, dtype=np.uint8)\n",
    "        self.rewards = np.zeros(buffer_size)\n",
    "        self.terminal = np.zeros(buffer_size)\n",
    "        self.buffer_index = 0\n",
    "        self.buffer_size = buffer_size\n",
    "        self.batch_size = batch_size\n",
    "\n",
    "    #space the state, action, reward, next state, and state of episode in the\n",
    "    #replay memory. Cap the length of memory at buffer size (init parameter), \n",
    "    #and overwrite oldest memory when buffer filled\n",
    "    def save_action(self, state, action, reward, next_state, done):\n",
    "        self.states[self.buffer_index] = state\n",
    "        self.next_states[self.buffer_index] = next_state\n",
    "        self.actions[self.buffer_index] = action\n",
    "        self.rewards[self.buffer_index] = reward\n",
    "        self.terminal[self.buffer_index] = 1 - int(done)\n",
    "        #move up the index of where to write in fized memory, and reset if\n",
    "        #max size is reached\n",
    "        self.buffer_index = (self.buffer_index + 1) % self.buffer_size\n",
    "\n",
    "    # return info from n randomly selected experiences, where in the the batch\n",
    "    #size specified in initialzation\n",
    "    def sample_memory(self):\n",
    "        indicies = np.random.randint(0, self.buffer_index, self.batch_size)\n",
    "        return self.states[indicies], self.actions[indicies], self.rewards[indicies], self.next_states[indicies], self.terminal[indicies]\n",
    "    \n",
    "\n"
   ]
  },
  {
   "cell_type": "markdown",
   "metadata": {},
   "source": [
    "Function For Deep Q Network"
   ]
  },
  {
   "cell_type": "code",
   "execution_count": 173,
   "metadata": {
    "ExecuteTime": {
     "end_time": "2023-12-20T03:13:14.236860Z",
     "start_time": "2023-12-20T03:13:14.234892Z"
    }
   },
   "outputs": [],
   "source": [
    "#from https://keras.io/examples/rl/deep_q_network_breakout/, function that\n",
    "#initializes deep q network\n",
    "def init_deep_q_network(input_shape, num_actions):\n",
    "    # Network defined by the Deepmind paper\n",
    "    inputs = layers.Input(shape=input_shape)\n",
    "\n",
    "    # Convolutions on the frames on the screen\n",
    "    layer1 = layers.Conv2D(32, 8, strides=4, activation=\"relu\")(inputs)\n",
    "    layer2 = layers.Conv2D(64, 4, strides=2, activation=\"relu\")(layer1)\n",
    "    layer3 = layers.Conv2D(64, 3, strides=1, activation=\"relu\")(layer2)\n",
    "\n",
    "    layer4 = layers.Flatten()(layer3)\n",
    "\n",
    "    layer5 = layers.Dense(512, activation=\"relu\")(layer4)\n",
    "    action = layers.Dense(num_actions, activation=\"linear\")(layer5)\n",
    "\n",
    "    return keras.Model(inputs=inputs, outputs=action)"
   ]
  },
  {
   "cell_type": "markdown",
   "metadata": {},
   "source": [
    "Class For Learning Agent"
   ]
  },
  {
   "cell_type": "code",
   "execution_count": 269,
   "metadata": {
    "ExecuteTime": {
     "end_time": "2023-12-20T03:13:14.242276Z",
     "start_time": "2023-12-20T03:13:14.240095Z"
    }
   },
   "outputs": [],
   "source": [
    "#class that performs the actions of agent in a learning environment, namely \n",
    "#action selection and Q function learning. This agent is set up with an \n",
    "#attention module consisting of an aditional set of q networks. It still has \n",
    "#the same q-network for learning atari game actions, but it has an additional\n",
    "#network (with the same architecutre save for the output shape), that learns\n",
    "#\"attentional movement\" actions. Rather than perform a naive dimensionality\n",
    "#reduction to lower the input to the second network, dimensionality is reduced\n",
    "#by restricting input to the game action learning agent to a window of the\n",
    "#screen. The agent can move the center point of this window, and learns both\n",
    "#where it should set this focal point, as well as what actions it should take\n",
    "#given what it is paying attention to\n",
    "class Agent(object):\n",
    "    def __init__(self, alpha, gamma, actions_amt, epsilon, input_shape, input_shape_attention=(84, 84, 3), epsilon_dec=0.996, epsilon_end=0.01, batch_size=64, fname='dqn_model.h5', buffer_size=1000, window_x=84, window_y=84, x_max=160, y_max=210):\n",
    "        self.alpha = alpha\n",
    "        self.gamma = gamma\n",
    "        self.actions_amt = actions_amt\n",
    "        self.epsilon = epsilon \n",
    "        self.input_shape = input_shape\n",
    "        self.input_shape_attention = input_shape\n",
    "        self.epsilon_dec = epsilon_dec\n",
    "        self.epsilon_end = epsilon_end\n",
    "        self.fname = fname\n",
    "        self.q_network = init_deep_q_network(input_shape, alpha, actions_amt, 256, 256)\n",
    "        self.q_network_target = init_deep_q_network(input_shape, alpha, actions_amt, 256, 256)\n",
    "        self.attention_q = init_deep_q_network(input_shape_attention, alpha, actions_amt, 256, 256)\n",
    "        self.attention_q_target = init_deep_q_network(input_shape_attention, alpha, actions_amt, 256, 256)\n",
    "        self.memory = Memory(input_shape, actions_amt, buffer_size, batch_size)\n",
    "        self.loss_function = keras.losses.Huber()\n",
    "        self.optimizer = keras.optimizers.legacy.Adam(learning_rate=0.00025, clipnorm=1.0)\n",
    "        self.model_file = \"rl_agent\"\n",
    "        self.attention_model_file = \"attention_network\"\n",
    "        self.window_x = window_x\n",
    "        self.window_y = window_y\n",
    "        self.x_max = x_max\n",
    "        self.y_max = y_max\n",
    "\n",
    "    #any method with actor=True as a default parameter pertain to actions that\n",
    "    #could be done on the behavioral (game action) q_network, or the attention\n",
    "    #location learning network. Actor=True means that the selected network is\n",
    "    #the behavioral\n",
    "    \n",
    "    \n",
    "    def select_action(self, input, actor=True): \n",
    "        if actor:\n",
    "            network = self.q_network\n",
    "            num_actions = self.actions_amt\n",
    "        else: \n",
    "            network = self.attention_q\n",
    "            num_actions = 5\n",
    "        \n",
    "        #epsilon greedy action selection \n",
    "        if np.random.rand() > self.epsilon:\n",
    "            action_values = network.predict(input[None,...], verbose=0)\n",
    "            action = np.argmax(action_values)\n",
    "        else:\n",
    "            action = np.random.choice(num_actions)\n",
    "        \n",
    "        return action \n",
    "    \n",
    "    def store_action(self, state, action, reward, next_state, done, actor=True):\n",
    "        self.memory.save_action(state, action, reward, next_state, done)\n",
    "\n",
    "    #gradient tape section also taken from \n",
    "    #https://keras.io/examples/rl/deep_q_network_breakout/\n",
    "    def learn(self, actor=True):\n",
    "        if actor:\n",
    "            network = self.q_network\n",
    "            target_network = self.q_network_target\n",
    "        else: \n",
    "            network = self.attention_q\n",
    "            target_network = self.attention_q_target\n",
    "        \n",
    "        #get information from randomly selected experiences in replay memory\n",
    "        states, actions, rewards, new_states, dones = self.memory.sample_memory()\n",
    "        states = tf.stack(states)\n",
    "        actions = tf.stack(actions)\n",
    "        new_states = tf.stack(new_states)\n",
    "        dones = tf.stack(dones)\n",
    "        new_states = tf.stack(new_states)\n",
    "        \n",
    "        #calculate updates\n",
    "        future_rewards = target_network.predict(new_states, verbose=0)\n",
    "        updated_qs = rewards + self.gamma * tf.reduce_max(future_rewards, axis=1)\n",
    "        masks = tf.one_hot(actions, self.actions_amt)\n",
    "        \n",
    "        #backpropogate \n",
    "        with tf.GradientTape() as tape:\n",
    "            q_values = network(states)\n",
    "            q_actions = tf.reduce_sum(tf.multiply(q_values, masks), axis=1)\n",
    "            loss = self.loss_function(updated_qs, q_actions)\n",
    "        grads = tape.gradient(loss, network.trainable_variables)\n",
    "        self.optimizer.apply_gradients(zip(grads, network.trainable_variables))\n",
    "        target_network.set_weights(network.get_weights())\n",
    "        \n",
    "        #decrement epsilon if it is not at its minimal value\n",
    "        if self.epsilon > self.epsilon_end:\n",
    "            self.epsilon -= self.epsilon_dec\n",
    "\n",
    "    #set the starting focal point (center of attention rectangle) to be \n",
    "    #centered at the bottom of the frame\n",
    "    def set_focal_point(self):\n",
    "        y = self.y_max\n",
    "        x = self.x_max\n",
    "        x_init = x / 2\n",
    "        y_init = y - (self.window_y / 2)\n",
    "        self.focal_point = (x_init, y_init)\n",
    "\n",
    "    #move the frame based on action selected from agent, unless movement would\n",
    "    #place any part of the attentional rectangle out of bounds\n",
    "    def move_focal_point(self, action, stride=5):\n",
    "        x,y = self.focal_point\n",
    "        if (action == 0) and (x - stride - (self.window_x / 2) > 0):\n",
    "            x = x - stride\n",
    "        if (action == 1) and (x + stride + (self.window_x / 2) < self.x_max):\n",
    "            x = x + stride\n",
    "        if (action == 2) and (y - stride - (self.window_y / 2) > 0):\n",
    "            y = y - stride\n",
    "        if (action == 3) and (y + stride + (self.window_y / 2) < self.y_max):\n",
    "            y = y + stride\n",
    "        self.focal_point = (x,y)\n",
    "    \n",
    "    #extract from the entire frame given by the environment on the rectangle\n",
    "    #defined by the focal point for the attention, and the size of the \n",
    "    #attentional rectangle \n",
    "    def extract_frame(self, input):\n",
    "        focal_point = self.focal_point\n",
    "        x_len, y_len = self.window_x, self.window_y\n",
    "        x,y = focal_point\n",
    "        x_half = x_len / 2\n",
    "        y_half = y_len /2\n",
    "        \n",
    "        x_left = x - x_half\n",
    "        x_right = x + x_half\n",
    "        y_up = y + y_half\n",
    "        y_down = y - y_half\n",
    "        \n",
    "        x_left = int(x_left)\n",
    "        x_right = int(x_right)\n",
    "        y_up = int(y_up)\n",
    "        y_down = int(y_down)\n",
    "        \n",
    "        frame = input[y_down:y_up, x_left:x_right]\n",
    "        return frame\n",
    "    \n",
    "    def save_model(self, actor=True):\n",
    "        if actor:\n",
    "            network = self.q_network\n",
    "            file = self.model_file\n",
    "        else: \n",
    "            network = self.attention_q\n",
    "            file = self.attention_model_file\n",
    "        \n",
    "        network.save(file)\n",
    "\n",
    "    def load_model(self):\n",
    "        self.q_network = load_model(self.model_file)\n",
    "        \n",
    "\n",
    "        "
   ]
  },
  {
   "cell_type": "markdown",
   "metadata": {},
   "source": [
    "Run Learning Loop"
   ]
  },
  {
   "cell_type": "code",
   "execution_count": 286,
   "metadata": {
    "ExecuteTime": {
     "end_time": "2023-12-20T03:14:01.075312Z",
     "start_time": "2023-12-20T03:13:14.242446Z"
    }
   },
   "outputs": [
    {
     "name": "stdout",
     "output_type": "stream",
     "text": [
      "(84, 84, 3)\n",
      "episode  0 score 0.00 average score 0.00\n",
      "(84, 84, 3)\n",
      "episode  1 score 0.00 average score 0.00\n",
      "(84, 84, 3)\n",
      "episode  2 score 2.00 average score 0.67\n",
      "(84, 84, 3)\n",
      "episode  3 score 3.00 average score 1.25\n",
      "(84, 84, 3)\n",
      "episode  4 score 0.00 average score 1.00\n",
      "(84, 84, 3)\n",
      "episode  5 score 2.00 average score 1.17\n",
      "(84, 84, 3)\n",
      "episode  6 score 1.00 average score 1.14\n",
      "(84, 84, 3)\n",
      "episode  7 score 2.00 average score 1.25\n",
      "(84, 84, 3)\n",
      "episode  8 score 2.00 average score 1.33\n",
      "(84, 84, 3)\n",
      "episode  9 score 2.00 average score 1.40\n",
      "(84, 84, 3)\n",
      "episode  10 score 2.00 average score 1.45\n",
      "(84, 84, 3)\n",
      "episode  11 score 1.00 average score 1.42\n",
      "(84, 84, 3)\n",
      "episode  12 score 3.00 average score 1.54\n",
      "(84, 84, 3)\n",
      "episode  13 score 0.00 average score 1.43\n",
      "(84, 84, 3)\n",
      "episode  14 score 0.00 average score 1.33\n",
      "(84, 84, 3)\n"
     ]
    },
    {
     "ename": "",
     "evalue": "",
     "output_type": "error",
     "traceback": [
      "\u001b[1;31mThe Kernel crashed while executing code in the the current cell or a previous cell. Please review the code in the cell(s) to identify a possible cause of the failure. Click <a href='https://aka.ms/vscodeJupyterKernelCrash'>here</a> for more info. View Jupyter <a href='command:jupyter.viewOutput'>log</a> for further details."
     ]
    }
   ],
   "source": [
    "import matplotlib.pyplot as plt\n",
    "#specify learning environment\n",
    "env = gym.make('Breakout-v4', render_mode=\"human\")\n",
    "#number of games agent will play\n",
    "n_games = 150001\n",
    "agent = Agent(gamma=.99, epsilon=.5, alpha=.0005, actions_amt=4, input_shape=(84, 84, 3), batch_size=32, epsilon_end=0.01, buffer_size=1000, epsilon_dec=.01, window_x=84, window_y=84)\n",
    "agent.set_focal_point()\n",
    "scores = []\n",
    "eps_history = []\n",
    "frames = []\n",
    "focal_points = []\n",
    "\n",
    "for i in range(n_games):\n",
    "    done = False\n",
    "    score = 0\n",
    "    observation = env.reset()\n",
    "    observation = observation[0]\n",
    "    first_observation = observation\n",
    "    first_focal_point = agent.focal_point\n",
    "    focal_points.append(first_focal_point)\n",
    "    frames.append(first_observation)\n",
    "    observation = agent.extract_frame(observation)\n",
    "    \n",
    "    print(np.shape(observation))\n",
    "    #iterator for learning schedule\n",
    "    j = 0\n",
    "    #loop until current game is terminated\n",
    "    while not done: \n",
    "        env.render()\n",
    "        #select game action and attention movement action\n",
    "        action = agent.select_action(observation)\n",
    "        fp_action = agent.select_action(observation, actor=False)\n",
    "        agent.move_focal_point(fp_action)\n",
    "        \n",
    "        #get information from environment\n",
    "        observation_raw, reward, done, truncated, info = env.step(action)\n",
    "        focal_points.append(agent.focal_point)\n",
    "        frames.append(observation_raw)\n",
    "        observation_ = agent.extract_frame(observation_raw)\n",
    "        \n",
    "        #update running score\n",
    "        score += reward\n",
    "        \n",
    "        #save experience to replay memory for acting and attention agent\n",
    "        agent.store_action(observation, action, reward, observation_, done)\n",
    "        agent.store_action(observation, action, reward, observation_, done, actor=False)\n",
    "        observation = observation_\n",
    "\n",
    "    #learn control for game actions and attention location\n",
    "    agent.learn()\n",
    "    agent.learn(actor=False)\n",
    "    eps_history.append(agent.epsilon)\n",
    "    scores.append(score)\n",
    "\n",
    "    avg_score = np.mean(scores[max(0, 1 - 100):(i + 1)])\n",
    "    #if i % 10 == 0:\n",
    "    print(\"episode \", i, \"score %.2f\" % score, 'average score %.2f' % avg_score)\n",
    "\n",
    "    #if i % 10 == 0 and i > 0: \n",
    "        #agent.save_model()"
   ]
  },
  {
   "cell_type": "code",
   "execution_count": 266,
   "metadata": {},
   "outputs": [
    {
     "name": "stdout",
     "output_type": "stream",
     "text": [
      "(3, 205) (87, 121)\n"
     ]
    },
    {
     "data": {
      "image/png": "[encoded data removed]",
      "text/plain": [
       "<Figure size 640x480 with 1 Axes>"
      ]
     },
     "metadata": {},
     "output_type": "display_data"
    }
   ],
   "source": [
    "def show_focus(focal_point, frame):\n",
    "    x,y= focal_point\n",
    "    width = agent.window_x\n",
    "    height = agent.window_y\n",
    "    top_left = (int(x - width/2), int(y + height/2))\n",
    "    bottom_right = (int(x + width/2), int(y - height/2))\n",
    "    print(top_left, bottom_right)\n",
    "    image = cv2.rectangle(frame, top_left, bottom_right, (225,0,0), 1)\n",
    "    plt.imshow(image)\n",
    "\n",
    "\n",
    "show_focus(focal_points[150], frames[150])"
   ]
  },
  {
   "cell_type": "code",
   "execution_count": 280,
   "metadata": {},
   "outputs": [
    {
     "name": "stdout",
     "output_type": "stream",
     "text": [
      "1.5416666666666667\n"
     ]
    },
    {
     "data": {
      "image/png": "[encoded data removed]",
      "text/plain": [
       "<Figure size 640x480 with 1 Axes>"
      ]
     },
     "metadata": {},
     "output_type": "display_data"
    }
   ],
   "source": [
    "\n",
    "avg_score = np.mean(scores[max(0, 1 - 100):(i + 1)])\n",
    "print(avg_score)\n",
    "plt.style.use('dark_background')\n",
    "def plot_line_chart(scores):\n",
    "   # Generate x-axis values (assuming scores are evenly spaced)\n",
    "   x_values = range(1, len(scores) + 1)\n",
    "\n",
    "\n",
    "   # Plot the line chart\n",
    "   plt.plot(x_values, scores, linestyle='-')\n",
    "\n",
    "\n",
    "   # Add labels and title\n",
    "   plt.xlabel('Game Number')\n",
    "   plt.ylabel('Recieved Reward')\n",
    "   plt.title('Recieved Reward per Game Played (With Attention)')\n",
    "   ax = plt.gca()\n",
    "   ax.set_ylim([0,10])\n",
    "\n",
    "   # Display the chart\n",
    "   plt.show()\n",
    "\n",
    "\n",
    "\n",
    "\n",
    "plot_line_chart(scores[0:69])"
   ]
  }
 ],
 "metadata": {
  "kernelspec": {
   "display_name": "base",
   "language": "python",
   "name": "python3"
  },
  "language_info": {
   "codemirror_mode": {
    "name": "ipython",
    "version": 3
   },
   "file_extension": ".py",
   "mimetype": "text/x-python",
   "name": "python",
   "nbconvert_exporter": "python",
   "pygments_lexer": "ipython3",
   "version": "3.11.5"
  }
 },
 "nbformat": 4,
 "nbformat_minor": 2
}
