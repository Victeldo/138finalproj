{
 "cells": [
  {
   "cell_type": "code",
   "execution_count": 1,
   "metadata": {
    "ExecuteTime": {
     "end_time": "2023-12-20T03:13:10.363071Z",
     "start_time": "2023-12-20T03:13:08.165886Z"
    }
   },
   "outputs": [
    {
     "name": "stderr",
     "output_type": "stream",
     "text": [
      "ERROR: Invalid requirement: \"'gym[atari]'\"\n"
     ]
    }
   ],
   "source": [
    "# !pip install tensorflow gym keras-rl gym[atari]\n",
    "!pip install tensorflow gym keras-rl 'gym[atari]' 'gym[accept-rom-license]' opencv-python\n",
    "# !pip install opencv-python"
   ]
  },
  {
   "cell_type": "code",
   "execution_count": 2,
   "metadata": {
    "ExecuteTime": {
     "end_time": "2023-12-20T03:13:14.227434Z",
     "start_time": "2023-12-20T03:13:10.364646Z"
    }
   },
   "outputs": [
    {
     "name": "stdout",
     "output_type": "stream",
     "text": [
      "WARNING:tensorflow:From c:\\Users\\micha\\anaconda3\\Lib\\site-packages\\keras\\src\\losses.py:2976: The name tf.losses.sparse_softmax_cross_entropy is deprecated. Please use tf.compat.v1.losses.sparse_softmax_cross_entropy instead.\n",
      "\n"
     ]
    }
   ],
   "source": [
    "import gym \n",
    "import random\n",
    "import numpy as np\n",
    "import tensorflow as tf\n",
    "from tensorflow import keras\n",
    "from tensorflow.keras import layers\n",
    "import cv2"
   ]
  },
  {
   "cell_type": "markdown",
   "metadata": {},
   "source": [
    "Pre-proccessing "
   ]
  },
  {
   "cell_type": "code",
   "execution_count": 3,
   "metadata": {
    "ExecuteTime": {
     "end_time": "2023-12-20T03:13:14.230560Z",
     "start_time": "2023-12-20T03:13:14.228149Z"
    }
   },
   "outputs": [],
   "source": [
    "def resize_frame(frame):\n",
    "    frame = np.average(frame,axis = 2)\n",
    "    frame = frame[30:-5,:]\n",
    "    frame = cv2.resize(frame,(84,84),interpolation = cv2.INTER_NEAREST)\n",
    "    frame = np.array(frame,dtype = np.uint8)\n",
    "    frame = np.expand_dims(frame, axis=-1)\n",
    "    frame = np.repeat(frame, 3, axis=-1)\n",
    "    return frame"
   ]
  },
  {
   "cell_type": "markdown",
   "metadata": {},
   "source": [
    "Class For Memory Buffer"
   ]
  },
  {
   "cell_type": "code",
   "execution_count": 4,
   "metadata": {
    "ExecuteTime": {
     "end_time": "2023-12-20T03:13:14.233909Z",
     "start_time": "2023-12-20T03:13:14.231925Z"
    }
   },
   "outputs": [],
   "source": [
    "class Memory(object):\n",
    "    def __init__(self, input_shape, num_actions, buffer_size, batch_size):\n",
    "        self.states = np.zeros((buffer_size,) + input_shape)\n",
    "        self.next_states = np.zeros((buffer_size,) + input_shape)\n",
    "        self.actions = np.zeros(buffer_size, dtype=np.uint8)\n",
    "        self.rewards = np.zeros(buffer_size)\n",
    "        self.terminal = np.zeros(buffer_size)\n",
    "        self.buffer_index = 0\n",
    "        self.buffer_size = buffer_size\n",
    "        self.batch_size = batch_size\n",
    "\n",
    "    def save_action(self, state, action, reward, next_state, done):\n",
    "        self.states[self.buffer_index] = state\n",
    "        self.next_states[self.buffer_index] = next_state\n",
    "        self.actions[self.buffer_index] = action\n",
    "        self.rewards[self.buffer_index] = reward\n",
    "        self.terminal[self.buffer_index] = 1 - int(done)\n",
    "        self.buffer_index = (self.buffer_index + 1) % self.buffer_size\n",
    "\n",
    "    def sample_memory(self):\n",
    "        indicies = np.random.randint(0, self.buffer_size, self.batch_size)\n",
    "        return self.states[indicies], self.actions[indicies], self.rewards[indicies], self.next_states[indicies], self.terminal[indicies]\n",
    "    \n",
    "\n"
   ]
  },
  {
   "cell_type": "markdown",
   "metadata": {},
   "source": [
    "Function For Deep Q Network"
   ]
  },
  {
   "cell_type": "code",
   "execution_count": 5,
   "metadata": {
    "ExecuteTime": {
     "end_time": "2023-12-20T03:13:14.236860Z",
     "start_time": "2023-12-20T03:13:14.234892Z"
    }
   },
   "outputs": [],
   "source": [
    "#from keras exactly, site if using!!!\n",
    "def init_deep_q_network(input_shape, lr, num_actions, l1_size, l2_size):\n",
    "    # Network defined by the Deepmind paper\n",
    "    inputs = layers.Input(shape=input_shape)\n",
    "\n",
    "    # Convolutions on the frames on the screen\n",
    "    layer1 = layers.Conv2D(32, 8, strides=4, activation=\"relu\")(inputs)\n",
    "    layer2 = layers.Conv2D(64, 4, strides=2, activation=\"relu\")(layer1)\n",
    "    layer3 = layers.Conv2D(64, 3, strides=1, activation=\"relu\")(layer2)\n",
    "\n",
    "    layer4 = layers.Flatten()(layer3)\n",
    "\n",
    "    layer5 = layers.Dense(512, activation=\"relu\")(layer4)\n",
    "    action = layers.Dense(num_actions, activation=\"linear\")(layer5)\n",
    "\n",
    "    return keras.Model(inputs=inputs, outputs=action)"
   ]
  },
  {
   "cell_type": "markdown",
   "metadata": {},
   "source": [
    "Class For Learning Agent"
   ]
  },
  {
   "cell_type": "code",
   "execution_count": 40,
   "metadata": {
    "ExecuteTime": {
     "end_time": "2023-12-20T03:13:14.242276Z",
     "start_time": "2023-12-20T03:13:14.240095Z"
    }
   },
   "outputs": [],
   "source": [
    "class Agent(object):\n",
    "    def __init__(self, alpha, gamma, actions_amt, epsilon, batch_size, input_shape, epsilon_dec=0.996, epsilon_end=0.01, mem_size=10000, fname='dqn_model.h5', buffer_size=1000):\n",
    "        self.alpha = alpha\n",
    "        self.gamma = gamma\n",
    "        self.actions_amt = actions_amt\n",
    "        self.epsilon = epsilon \n",
    "        self.batch_size = batch_size\n",
    "        self.input_shape = input_shape\n",
    "        self.epsilon_dec = epsilon_dec\n",
    "        self.epsilon_end = epsilon_end\n",
    "        self.mem_size = mem_size\n",
    "        self.fname = fname\n",
    "        self.q_network = init_deep_q_network(input_shape, alpha, actions_amt, 256, 256)\n",
    "        self.q_network_target = init_deep_q_network(input_shape, alpha, actions_amt, 256, 256)\n",
    "        self.memory = Memory(input_shape, actions_amt, buffer_size, batch_size)\n",
    "        self.loss_function = keras.losses.Huber()\n",
    "        self.optimizer = keras.optimizers.Adam(learning_rate=0.00025, clipnorm=1.0)\n",
    "        self.model_file = \"rl_agent\"\n",
    "\n",
    "\n",
    "    def select_action(self, input): \n",
    "        if np.random.rand() > self.epsilon:\n",
    "            action_values = self.q_network.predict(input[None,...], verbose=0)\n",
    "            action = np.argmax(action_values)\n",
    "        else:\n",
    "            action = np.random.choice(self.actions_amt)\n",
    "        \n",
    "        return action \n",
    "    \n",
    "    def store_action(self, state, action, reward, next_state, done):\n",
    "        self.memory.save_action(state, action, reward, next_state, done)\n",
    "\n",
    "    def learn(self):\n",
    "        #print(\"calling learn\")\n",
    "        states, actions, rewards, new_states, dones = self.memory.sample_memory()\n",
    "        states = tf.stack(states)\n",
    "        actions = tf.stack(actions)\n",
    "        new_states = tf.stack(new_states)\n",
    "        dones = tf.stack(dones)\n",
    "        new_states = tf.stack(new_states)\n",
    "        future_rewards = self.q_network_target.predict(new_states, verbose=0)\n",
    "        updated_qs = rewards + self.gamma * tf.reduce_max(future_rewards, axis=1)\n",
    "        masks = tf.one_hot(actions, self.actions_amt)\n",
    "        #print(\"before gradient tape section\")\n",
    "        with tf.GradientTape() as tape:\n",
    "            q_values = self.q_network(states)\n",
    "            q_actions = tf.reduce_sum(tf.multiply(q_values, masks), axis=1)\n",
    "            loss = self.loss_function(updated_qs, q_actions)\n",
    "        grads = tape.gradient(loss, self.q_network.trainable_variables)\n",
    "        self.optimizer.apply_gradients(zip(grads, self.q_network.trainable_variables))\n",
    "        self.q_network_target.set_weights(self.q_network.get_weights())\n",
    "        \n",
    "        if self.epsilon > self.epsilon_end:\n",
    "            self.epsilon -= self.epsilon_dec\n",
    "\n",
    "    def save_model(self):\n",
    "        self.q_network.save(self.model_file)\n",
    "\n",
    "    def load_model(self):\n",
    "        self.q_network = load_model(self.model_file)\n",
    "        \n",
    "\n",
    "        "
   ]
  },
  {
   "cell_type": "markdown",
   "metadata": {},
   "source": [
    "Run Learning Loop"
   ]
  },
  {
   "cell_type": "code",
   "execution_count": null,
   "metadata": {
    "ExecuteTime": {
     "end_time": "2023-12-20T03:14:01.075312Z",
     "start_time": "2023-12-20T03:13:14.242446Z"
    }
   },
   "outputs": [],
   "source": [
    "env = gym.make('Breakout-v4')\n",
    "# env = gym.make('Breakout-v4', render_mode='human')\n",
    "n_games = 15001\n",
    "agent = Agent(gamma=.99, epsilon=.5, alpha=.0005, actions_amt=4, input_shape=(84, 84, 3) , mem_size=100, batch_size=64, epsilon_end=0.01, buffer_size=1000, epsilon_dec=.001)\n",
    "\n",
    "scores = []\n",
    "eps_history = []\n",
    "\n",
    "for i in range(n_games):\n",
    "    done = False\n",
    "    score = 0\n",
    "    observation = env.reset()\n",
    "    observation = observation[0]\n",
    "    observation = resize_frame(observation)\n",
    "    while not done: \n",
    "        # env.render()\n",
    "        action = agent.select_action(observation)\n",
    "        observation_, reward, done, truncated, info = env.step(action)\n",
    "        observation_ = resize_frame(observation_)\n",
    "        score += reward\n",
    "        agent.store_action(observation, action, reward, observation_, done)\n",
    "        observation = observation_\n",
    "    agent.learn()\n",
    "\n",
    "    eps_history.append(agent.epsilon)\n",
    "    scores.append(score)\n",
    "\n",
    "    avg_score = np.mean(scores[max(0, 1 - 100):(i + 1)])\n",
    "    if i % 10 == 0:\n",
    "        print(\"episode \", i, \"score %.2f\" % score, 'average score %.2f' % avg_score)\n",
    "\n",
    "    #if i % 10 == 0 and i > 0: \n",
    "        #agent.save_model()"
   ]
  },
  {
   "cell_type": "code",
   "execution_count": null,
   "metadata": {
    "ExecuteTime": {
     "end_time": "2023-12-20T03:14:01.076137Z",
     "start_time": "2023-12-20T03:14:01.075842Z"
    },
    "collapsed": false
   },
   "outputs": [],
   "source": []
  }
 ],
 "metadata": {
  "kernelspec": {
   "display_name": "base",
   "language": "python",
   "name": "python3"
  },
  "language_info": {
   "codemirror_mode": {
    "name": "ipython",
    "version": 3
   },
   "file_extension": ".py",
   "mimetype": "text/x-python",
   "name": "python",
   "nbconvert_exporter": "python",
   "pygments_lexer": "ipython3",
   "version": "3.11.5"
  }
 },
 "nbformat": 4,
 "nbformat_minor": 2
}
