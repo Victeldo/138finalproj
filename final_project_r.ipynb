{
 "cells": [
  {
   "cell_type": "code",
   "execution_count": 1,
   "metadata": {
    "ExecuteTime": {
     "end_time": "2023-12-20T23:33:24.269426Z",
     "start_time": "2023-12-20T23:33:21.715048Z"
    }
   },
   "outputs": [
    {
     "name": "stdout",
     "output_type": "stream",
     "text": [
      "Requirement already satisfied: tensorflow in /Users/prithvi/anaconda3/lib/python3.11/site-packages (2.15.0)\r\n",
      "Requirement already satisfied: gym in /Users/prithvi/anaconda3/lib/python3.11/site-packages (0.26.2)\r\n",
      "Requirement already satisfied: keras-rl in /Users/prithvi/anaconda3/lib/python3.11/site-packages (0.4.2)\r\n",
      "Requirement already satisfied: opencv-python in /Users/prithvi/anaconda3/lib/python3.11/site-packages (4.8.1.78)\r\n",
      "Requirement already satisfied: tensorflow-macos==2.15.0 in /Users/prithvi/anaconda3/lib/python3.11/site-packages (from tensorflow) (2.15.0)\r\n",
      "Requirement already satisfied: absl-py>=1.0.0 in /Users/prithvi/anaconda3/lib/python3.11/site-packages (from tensorflow-macos==2.15.0->tensorflow) (2.0.0)\r\n",
      "Requirement already satisfied: astunparse>=1.6.0 in /Users/prithvi/anaconda3/lib/python3.11/site-packages (from tensorflow-macos==2.15.0->tensorflow) (1.6.3)\r\n",
      "Requirement already satisfied: flatbuffers>=23.5.26 in /Users/prithvi/anaconda3/lib/python3.11/site-packages (from tensorflow-macos==2.15.0->tensorflow) (23.5.26)\r\n",
      "Requirement already satisfied: gast!=0.5.0,!=0.5.1,!=0.5.2,>=0.2.1 in /Users/prithvi/anaconda3/lib/python3.11/site-packages (from tensorflow-macos==2.15.0->tensorflow) (0.5.4)\r\n",
      "Requirement already satisfied: google-pasta>=0.1.1 in /Users/prithvi/anaconda3/lib/python3.11/site-packages (from tensorflow-macos==2.15.0->tensorflow) (0.2.0)\r\n",
      "Requirement already satisfied: h5py>=2.9.0 in /Users/prithvi/anaconda3/lib/python3.11/site-packages (from tensorflow-macos==2.15.0->tensorflow) (3.9.0)\r\n",
      "Requirement already satisfied: libclang>=13.0.0 in /Users/prithvi/anaconda3/lib/python3.11/site-packages (from tensorflow-macos==2.15.0->tensorflow) (16.0.6)\r\n",
      "Requirement already satisfied: ml-dtypes~=0.2.0 in /Users/prithvi/anaconda3/lib/python3.11/site-packages (from tensorflow-macos==2.15.0->tensorflow) (0.2.0)\r\n",
      "Requirement already satisfied: numpy<2.0.0,>=1.23.5 in /Users/prithvi/anaconda3/lib/python3.11/site-packages (from tensorflow-macos==2.15.0->tensorflow) (1.24.3)\r\n",
      "Requirement already satisfied: opt-einsum>=2.3.2 in /Users/prithvi/anaconda3/lib/python3.11/site-packages (from tensorflow-macos==2.15.0->tensorflow) (3.3.0)\r\n",
      "Requirement already satisfied: packaging in /Users/prithvi/anaconda3/lib/python3.11/site-packages (from tensorflow-macos==2.15.0->tensorflow) (23.1)\r\n",
      "Requirement already satisfied: protobuf!=4.21.0,!=4.21.1,!=4.21.2,!=4.21.3,!=4.21.4,!=4.21.5,<5.0.0dev,>=3.20.3 in /Users/prithvi/anaconda3/lib/python3.11/site-packages (from tensorflow-macos==2.15.0->tensorflow) (4.23.4)\r\n",
      "Requirement already satisfied: setuptools in /Users/prithvi/anaconda3/lib/python3.11/site-packages (from tensorflow-macos==2.15.0->tensorflow) (68.0.0)\r\n",
      "Requirement already satisfied: six>=1.12.0 in /Users/prithvi/anaconda3/lib/python3.11/site-packages (from tensorflow-macos==2.15.0->tensorflow) (1.16.0)\r\n",
      "Requirement already satisfied: termcolor>=1.1.0 in /Users/prithvi/anaconda3/lib/python3.11/site-packages (from tensorflow-macos==2.15.0->tensorflow) (2.4.0)\r\n",
      "Requirement already satisfied: typing-extensions>=3.6.6 in /Users/prithvi/anaconda3/lib/python3.11/site-packages (from tensorflow-macos==2.15.0->tensorflow) (4.7.1)\r\n",
      "Requirement already satisfied: wrapt<1.15,>=1.11.0 in /Users/prithvi/anaconda3/lib/python3.11/site-packages (from tensorflow-macos==2.15.0->tensorflow) (1.14.1)\r\n",
      "Requirement already satisfied: tensorflow-io-gcs-filesystem>=0.23.1 in /Users/prithvi/anaconda3/lib/python3.11/site-packages (from tensorflow-macos==2.15.0->tensorflow) (0.34.0)\r\n",
      "Requirement already satisfied: grpcio<2.0,>=1.24.3 in /Users/prithvi/anaconda3/lib/python3.11/site-packages (from tensorflow-macos==2.15.0->tensorflow) (1.60.0)\r\n",
      "Requirement already satisfied: tensorboard<2.16,>=2.15 in /Users/prithvi/anaconda3/lib/python3.11/site-packages (from tensorflow-macos==2.15.0->tensorflow) (2.15.1)\r\n",
      "Requirement already satisfied: tensorflow-estimator<2.16,>=2.15.0 in /Users/prithvi/anaconda3/lib/python3.11/site-packages (from tensorflow-macos==2.15.0->tensorflow) (2.15.0)\r\n",
      "Requirement already satisfied: keras<2.16,>=2.15.0 in /Users/prithvi/anaconda3/lib/python3.11/site-packages (from tensorflow-macos==2.15.0->tensorflow) (2.15.0)\r\n",
      "Requirement already satisfied: cloudpickle>=1.2.0 in /Users/prithvi/anaconda3/lib/python3.11/site-packages (from gym) (2.2.1)\r\n",
      "Requirement already satisfied: gym-notices>=0.0.4 in /Users/prithvi/anaconda3/lib/python3.11/site-packages (from gym) (0.0.8)\r\n",
      "Requirement already satisfied: ale-py~=0.8.0 in /Users/prithvi/anaconda3/lib/python3.11/site-packages (from gym) (0.8.1)\r\n",
      "Requirement already satisfied: autorom[accept-rom-license]~=0.4.2 in /Users/prithvi/anaconda3/lib/python3.11/site-packages (from gym) (0.4.2)\r\n",
      "Requirement already satisfied: importlib-resources in /Users/prithvi/anaconda3/lib/python3.11/site-packages (from ale-py~=0.8.0->gym) (6.1.1)\r\n",
      "Requirement already satisfied: click in /Users/prithvi/anaconda3/lib/python3.11/site-packages (from autorom[accept-rom-license]~=0.4.2->gym) (8.0.4)\r\n",
      "Requirement already satisfied: requests in /Users/prithvi/anaconda3/lib/python3.11/site-packages (from autorom[accept-rom-license]~=0.4.2->gym) (2.31.0)\r\n",
      "Requirement already satisfied: tqdm in /Users/prithvi/anaconda3/lib/python3.11/site-packages (from autorom[accept-rom-license]~=0.4.2->gym) (4.65.0)\r\n",
      "Requirement already satisfied: AutoROM.accept-rom-license in /Users/prithvi/anaconda3/lib/python3.11/site-packages (from autorom[accept-rom-license]~=0.4.2->gym) (0.6.1)\r\n",
      "Requirement already satisfied: wheel<1.0,>=0.23.0 in /Users/prithvi/anaconda3/lib/python3.11/site-packages (from astunparse>=1.6.0->tensorflow-macos==2.15.0->tensorflow) (0.38.4)\r\n",
      "Requirement already satisfied: google-auth<3,>=1.6.3 in /Users/prithvi/anaconda3/lib/python3.11/site-packages (from tensorboard<2.16,>=2.15->tensorflow-macos==2.15.0->tensorflow) (2.25.2)\r\n",
      "Requirement already satisfied: google-auth-oauthlib<2,>=0.5 in /Users/prithvi/anaconda3/lib/python3.11/site-packages (from tensorboard<2.16,>=2.15->tensorflow-macos==2.15.0->tensorflow) (1.2.0)\r\n",
      "Requirement already satisfied: markdown>=2.6.8 in /Users/prithvi/anaconda3/lib/python3.11/site-packages (from tensorboard<2.16,>=2.15->tensorflow-macos==2.15.0->tensorflow) (3.4.1)\r\n",
      "Requirement already satisfied: tensorboard-data-server<0.8.0,>=0.7.0 in /Users/prithvi/anaconda3/lib/python3.11/site-packages (from tensorboard<2.16,>=2.15->tensorflow-macos==2.15.0->tensorflow) (0.7.2)\r\n",
      "Requirement already satisfied: werkzeug>=1.0.1 in /Users/prithvi/anaconda3/lib/python3.11/site-packages (from tensorboard<2.16,>=2.15->tensorflow-macos==2.15.0->tensorflow) (2.2.3)\r\n",
      "Requirement already satisfied: charset-normalizer<4,>=2 in /Users/prithvi/anaconda3/lib/python3.11/site-packages (from requests->autorom[accept-rom-license]~=0.4.2->gym) (2.0.4)\r\n",
      "Requirement already satisfied: idna<4,>=2.5 in /Users/prithvi/anaconda3/lib/python3.11/site-packages (from requests->autorom[accept-rom-license]~=0.4.2->gym) (3.4)\r\n",
      "Requirement already satisfied: urllib3<3,>=1.21.1 in /Users/prithvi/anaconda3/lib/python3.11/site-packages (from requests->autorom[accept-rom-license]~=0.4.2->gym) (1.26.16)\r\n",
      "Requirement already satisfied: certifi>=2017.4.17 in /Users/prithvi/anaconda3/lib/python3.11/site-packages (from requests->autorom[accept-rom-license]~=0.4.2->gym) (2023.7.22)\r\n",
      "Requirement already satisfied: cachetools<6.0,>=2.0.0 in /Users/prithvi/anaconda3/lib/python3.11/site-packages (from google-auth<3,>=1.6.3->tensorboard<2.16,>=2.15->tensorflow-macos==2.15.0->tensorflow) (5.3.2)\r\n",
      "Requirement already satisfied: pyasn1-modules>=0.2.1 in /Users/prithvi/anaconda3/lib/python3.11/site-packages (from google-auth<3,>=1.6.3->tensorboard<2.16,>=2.15->tensorflow-macos==2.15.0->tensorflow) (0.2.8)\r\n",
      "Requirement already satisfied: rsa<5,>=3.1.4 in /Users/prithvi/anaconda3/lib/python3.11/site-packages (from google-auth<3,>=1.6.3->tensorboard<2.16,>=2.15->tensorflow-macos==2.15.0->tensorflow) (4.9)\r\n",
      "Requirement already satisfied: requests-oauthlib>=0.7.0 in /Users/prithvi/anaconda3/lib/python3.11/site-packages (from google-auth-oauthlib<2,>=0.5->tensorboard<2.16,>=2.15->tensorflow-macos==2.15.0->tensorflow) (1.3.1)\r\n",
      "Requirement already satisfied: MarkupSafe>=2.1.1 in /Users/prithvi/anaconda3/lib/python3.11/site-packages (from werkzeug>=1.0.1->tensorboard<2.16,>=2.15->tensorflow-macos==2.15.0->tensorflow) (2.1.1)\r\n",
      "Requirement already satisfied: pyasn1<0.5.0,>=0.4.6 in /Users/prithvi/anaconda3/lib/python3.11/site-packages (from pyasn1-modules>=0.2.1->google-auth<3,>=1.6.3->tensorboard<2.16,>=2.15->tensorflow-macos==2.15.0->tensorflow) (0.4.8)\r\n",
      "Requirement already satisfied: oauthlib>=3.0.0 in /Users/prithvi/anaconda3/lib/python3.11/site-packages (from requests-oauthlib>=0.7.0->google-auth-oauthlib<2,>=0.5->tensorboard<2.16,>=2.15->tensorflow-macos==2.15.0->tensorflow) (3.2.2)\r\n"
     ]
    }
   ],
   "source": [
    "# !pip install tensorflow gym keras-rl gym[atari]\n",
    "!pip install tensorflow gym keras-rl 'gym[atari]' 'gym[accept-rom-license]' opencv-python\n",
    "# !pip install opencv-python"
   ]
  },
  {
   "cell_type": "code",
   "execution_count": 2,
   "metadata": {
    "ExecuteTime": {
     "end_time": "2023-12-20T23:33:28.674231Z",
     "start_time": "2023-12-20T23:33:24.271481Z"
    }
   },
   "outputs": [],
   "source": [
    "import gym \n",
    "import random\n",
    "import numpy as np\n",
    "import tensorflow as tf\n",
    "from tensorflow import keras\n",
    "from tensorflow.keras import layers\n",
    "import cv2\n",
    "import matplotlib.pyplot as plt"
   ]
  },
  {
   "cell_type": "markdown",
   "metadata": {},
   "source": [
    "Pre-proccessing "
   ]
  },
  {
   "cell_type": "code",
   "execution_count": 3,
   "metadata": {
    "ExecuteTime": {
     "end_time": "2023-12-20T23:33:28.674823Z",
     "start_time": "2023-12-20T23:33:28.672974Z"
    }
   },
   "outputs": [],
   "source": [
    "def resize_frame(frame):\n",
    "    frame = np.average(frame,axis = 2)\n",
    "    frame = frame[30:-5,:]\n",
    "    frame = cv2.resize(frame,(84,84),interpolation = cv2.INTER_NEAREST)\n",
    "    frame = np.array(frame,dtype = np.uint8)\n",
    "    frame = np.expand_dims(frame, axis=-1)\n",
    "    frame = np.repeat(frame, 3, axis=-1)\n",
    "    return frame"
   ]
  },
  {
   "cell_type": "code",
   "execution_count": 4,
   "metadata": {
    "ExecuteTime": {
     "end_time": "2023-12-20T23:33:28.702418Z",
     "start_time": "2023-12-20T23:33:28.675089Z"
    }
   },
   "outputs": [],
   "source": [
    "def extract_frame(input, focal_point, x_len, y_len):\n",
    "    max_x, max_y = np.shape(input)\n",
    "    x,y = focal_point\n",
    "    x_half = x_len / 2\n",
    "    y_half = y_len /2\n",
    "    x_left = x - x_half\n",
    "    x_right = x + x_half\n",
    "    y_up = y + y_half\n",
    "    y_down = y - y_half\n",
    "    if x_left < 0:\n",
    "        x_left = 0\n",
    "    if x_right > max_x - 1:\n",
    "        x_right = max_x - 1\n",
    "    if y_up > max_y - 1:\n",
    "        y_up = max_y - 1\n",
    "    if y_down < 0:\n",
    "        y_down = 0\n",
    "    frame = input[x_left:x_right, y_down:y_up]\n",
    "    return frame"
   ]
  },
  {
   "cell_type": "markdown",
   "metadata": {},
   "source": [
    "Class For Memory Buffer"
   ]
  },
  {
   "cell_type": "code",
   "execution_count": 5,
   "metadata": {
    "ExecuteTime": {
     "end_time": "2023-12-20T23:33:28.702733Z",
     "start_time": "2023-12-20T23:33:28.678104Z"
    }
   },
   "outputs": [],
   "source": [
    "class Memory(object):\n",
    "    def __init__(self, input_shape, num_actions, buffer_size, batch_size):\n",
    "        self.states = np.zeros((buffer_size,) + input_shape)\n",
    "        self.next_states = np.zeros((buffer_size,) + input_shape)\n",
    "        self.actions = np.zeros(buffer_size, dtype=np.uint8)\n",
    "        self.rewards = np.zeros(buffer_size)\n",
    "        self.terminal = np.zeros(buffer_size)\n",
    "        self.buffer_index = 0\n",
    "        self.buffer_size = buffer_size\n",
    "        self.batch_size = batch_size\n",
    "\n",
    "    def save_action(self, state, action, reward, next_state, done):\n",
    "        self.states[self.buffer_index] = state\n",
    "        self.next_states[self.buffer_index] = next_state\n",
    "        self.actions[self.buffer_index] = action\n",
    "        self.rewards[self.buffer_index] = reward\n",
    "        self.terminal[self.buffer_index] = 1 - int(done)\n",
    "        self.buffer_index = (self.buffer_index + 1) % self.buffer_size\n",
    "\n",
    "    def sample_memory(self):\n",
    "        indicies = np.random.randint(0, self.buffer_size, self.batch_size)\n",
    "        return self.states[indicies], self.actions[indicies], self.rewards[indicies], self.next_states[indicies], self.terminal[indicies]\n",
    "    \n",
    "\n"
   ]
  },
  {
   "cell_type": "markdown",
   "metadata": {},
   "source": [
    "Function For Deep Q Network"
   ]
  },
  {
   "cell_type": "code",
   "execution_count": 6,
   "metadata": {
    "ExecuteTime": {
     "end_time": "2023-12-20T23:33:28.702903Z",
     "start_time": "2023-12-20T23:33:28.680362Z"
    }
   },
   "outputs": [],
   "source": [
    "#from keras exactly, site if using!!!\n",
    "def init_deep_q_network(input_shape, lr, num_actions, l1_size, l2_size):\n",
    "    # Network defined by the Deepmind paper\n",
    "    inputs = layers.Input(shape=input_shape)\n",
    "\n",
    "    # Convolutions on the frames on the screen\n",
    "    layer1 = layers.Conv2D(32, 8, strides=4, activation=\"relu\")(inputs)\n",
    "    layer2 = layers.Conv2D(64, 4, strides=2, activation=\"relu\")(layer1)\n",
    "    layer3 = layers.Conv2D(64, 3, strides=1, activation=\"relu\")(layer2)\n",
    "\n",
    "    layer4 = layers.Flatten()(layer3)\n",
    "\n",
    "    layer5 = layers.Dense(512, activation=\"relu\")(layer4)\n",
    "    action = layers.Dense(num_actions, activation=\"linear\")(layer5)\n",
    "\n",
    "    return keras.Model(inputs=inputs, outputs=action)"
   ]
  },
  {
   "cell_type": "markdown",
   "metadata": {},
   "source": [
    "Class For Learning Agent"
   ]
  },
  {
   "cell_type": "code",
   "execution_count": 7,
   "metadata": {
    "ExecuteTime": {
     "end_time": "2023-12-20T23:33:28.703052Z",
     "start_time": "2023-12-20T23:33:28.684897Z"
    }
   },
   "outputs": [],
   "source": [
    "class Agent(object):\n",
    "    def __init__(self, alpha, gamma, actions_amt, epsilon, batch_size, input_shape, epsilon_dec=0.996, epsilon_end=0.01, mem_size=10000, fname='dqn_model.h5', buffer_size=1000):\n",
    "        self.alpha = alpha\n",
    "        self.gamma = gamma\n",
    "        self.actions_amt = actions_amt\n",
    "        self.epsilon = epsilon \n",
    "        self.batch_size = batch_size\n",
    "        self.input_shape = input_shape\n",
    "        self.epsilon_dec = epsilon_dec\n",
    "        self.epsilon_end = epsilon_end\n",
    "        self.mem_size = mem_size\n",
    "        self.fname = fname\n",
    "        self.q_network = init_deep_q_network(input_shape, alpha, actions_amt, 256, 256)\n",
    "        self.q_network_target = init_deep_q_network(input_shape, alpha, actions_amt, 256, 256)\n",
    "        self.memory = Memory(input_shape, actions_amt, buffer_size, batch_size)\n",
    "        self.loss_function = keras.losses.Huber()\n",
    "        self.optimizer = keras.optimizers.Adam(learning_rate=0.00025, clipnorm=1.0)\n",
    "        self.model_file = \"rl_agent\"\n",
    "\n",
    "\n",
    "    def select_action(self, input): \n",
    "        if np.random.rand() > self.epsilon:\n",
    "            action_values = self.q_network.predict(input[None,...], verbose=0)\n",
    "            action = np.argmax(action_values)\n",
    "        else:\n",
    "            action = np.random.choice(self.actions_amt)\n",
    "        \n",
    "        return action \n",
    "    \n",
    "    def store_action(self, state, action, reward, next_state, done):\n",
    "        self.memory.save_action(state, action, reward, next_state, done)\n",
    "\n",
    "    def learn(self):\n",
    "        #print(\"calling learn\")\n",
    "        states, actions, rewards, new_states, dones = self.memory.sample_memory()\n",
    "        states = tf.stack(states)\n",
    "        actions = tf.stack(actions)\n",
    "        new_states = tf.stack(new_states)\n",
    "        dones = tf.stack(dones)\n",
    "        new_states = tf.stack(new_states)\n",
    "        future_rewards = self.q_network_target.predict(new_states, verbose=0)\n",
    "        updated_qs = rewards + self.gamma * tf.reduce_max(future_rewards, axis=1)\n",
    "        masks = tf.one_hot(actions, self.actions_amt)\n",
    "        #print(\"before gradient tape section\")\n",
    "        with tf.GradientTape() as tape:\n",
    "            q_values = self.q_network(states)\n",
    "            q_actions = tf.reduce_sum(tf.multiply(q_values, masks), axis=1)\n",
    "            loss = self.loss_function(updated_qs, q_actions)\n",
    "        grads = tape.gradient(loss, self.q_network.trainable_variables)\n",
    "        self.optimizer.apply_gradients(zip(grads, self.q_network.trainable_variables))\n",
    "        self.q_network_target.set_weights(self.q_network.get_weights())\n",
    "        \n",
    "        if self.epsilon > self.epsilon_end:\n",
    "            self.epsilon -= self.epsilon_dec\n",
    "\n",
    "    def save_model(self):\n",
    "        self.q_network.save(self.model_file)\n",
    "\n",
    "    def load_model(self):\n",
    "        self.q_network = load_model(self.model_file)\n",
    "        \n",
    "\n",
    "        "
   ]
  },
  {
   "cell_type": "markdown",
   "metadata": {},
   "source": [
    "Run Learning Loop"
   ]
  },
  {
   "cell_type": "code",
   "execution_count": 15,
   "metadata": {
    "ExecuteTime": {
     "end_time": "2023-12-21T03:05:24.396788Z",
     "start_time": "2023-12-21T03:05:23.375500Z"
    }
   },
   "outputs": [
    {
     "name": "stderr",
     "output_type": "stream",
     "text": [
      "WARNING:absl:At this time, the v2.11+ optimizer `tf.keras.optimizers.Adam` runs slowly on M1/M2 Macs, please use the legacy Keras optimizer instead, located at `tf.keras.optimizers.legacy.Adam`.\n"
     ]
    }
   ],
   "source": [
    "env = gym.make('Breakout-v4')\n",
    "# env = gym.make('Breakout-v4', render_mode='human')\n",
    "n_games = 70\n",
    "agent = Agent(gamma=.99, epsilon=.05, alpha=.0005, actions_amt=4, input_shape=(84, 84, 3) , mem_size=100, batch_size=64, epsilon_end=0.01, buffer_size=1000, epsilon_dec=.001)\n",
    "\n",
    "# observation = env.reset()\n",
    "# observation = observation[0]\n",
    "# observation = resize_frame(observation)\n",
    "# plt.imshow(observation) #temporary\n",
    "\n",
    "scores = []\n",
    "avg_scores = []\n",
    "eps_history = []"
   ]
  },
  {
   "cell_type": "code",
   "execution_count": 16,
   "outputs": [
    {
     "name": "stdout",
     "output_type": "stream",
     "text": [
      "episode  0 score 0.00 average score 0.00\n",
      "episode  10 score 0.00 average score 2.27\n",
      "episode  20 score 0.00 average score 1.81\n",
      "episode  30 score 0.00 average score 1.71\n",
      "episode  40 score 0.00 average score 1.54\n",
      "episode  50 score 0.00 average score 1.55\n",
      "episode  60 score 0.00 average score 1.56\n"
     ]
    }
   ],
   "source": [
    "for i in range(n_games):\n",
    "    done = False\n",
    "    score = 0\n",
    "    observation = env.reset()\n",
    "    observation = observation[0]\n",
    "    observation = resize_frame(observation)\n",
    "    while not done: \n",
    "        # env.render()\n",
    "        action = agent.select_action(observation)\n",
    "        observation_, reward, done, truncated, info = env.step(action)\n",
    "        observation_ = resize_frame(observation_)\n",
    "        agent.store_action(observation, action, reward, observation_, done)\n",
    "        observation = observation_\n",
    "        score += reward\n",
    "    agent.learn()\n",
    "\n",
    "    eps_history.append(agent.epsilon)\n",
    "    scores.append(score)\n",
    "    score = 0\n",
    "\n",
    "    avg_score = np.mean(scores[max(0, 1 - 100):(i + 1)])\n",
    "    avg_scores.append(avg_score)\n",
    "    if i % 10 == 0:\n",
    "        print(\"episode \", i, \"score %.2f\" % score, 'average score %.2f' % avg_score)\n",
    "\n",
    "    #if i % 10 == 0 and i > 0: \n",
    "        #agent.save_model()"
   ],
   "metadata": {
    "collapsed": false,
    "ExecuteTime": {
     "end_time": "2023-12-21T03:21:16.217029Z",
     "start_time": "2023-12-21T03:05:26.252515Z"
    }
   }
  },
  {
   "cell_type": "code",
   "execution_count": 23,
   "outputs": [
    {
     "data": {
      "text/plain": "<Figure size 640x480 with 1 Axes>",
      "image/png": "[encoded data removed]"
     },
     "metadata": {},
     "output_type": "display_data"
    }
   ],
   "source": [
    "def plot_line_chart(scores):\n",
    "    # Generate x-axis values (assuming scores are evenly spaced)\n",
    "    x_values = range(1, len(scores) + 1)\n",
    "\n",
    "    # Plot the line chart\n",
    "    plt.plot(x_values, scores, linestyle='-')\n",
    "\n",
    "    # Add labels and title\n",
    "    plt.xlabel('Game Number')\n",
    "    plt.ylabel('Received Reward')\n",
    "    plt.title('Received Reward per game played (Without Attention)')\n",
    "\n",
    "    # Display the chart\n",
    "    plt.show()\n",
    "\n",
    "# Example usage:\n",
    "plot_line_chart(scores)"
   ],
   "metadata": {
    "collapsed": false,
    "ExecuteTime": {
     "end_time": "2023-12-21T03:32:06.481606Z",
     "start_time": "2023-12-21T03:32:04.664161Z"
    }
   }
  },
  {
   "cell_type": "code",
   "execution_count": 11,
   "outputs": [],
   "source": [
    "RL"
   ],
   "metadata": {
    "collapsed": false,
    "ExecuteTime": {
     "end_time": "2023-12-21T00:05:34.829097Z",
     "start_time": "2023-12-21T00:05:34.827024Z"
    }
   }
  },
  {
   "cell_type": "code",
   "execution_count": null,
   "outputs": [],
   "source": [],
   "metadata": {
    "collapsed": false
   }
  }
 ],
 "metadata": {
  "kernelspec": {
   "display_name": "base",
   "language": "python",
   "name": "python3"
  },
  "language_info": {
   "codemirror_mode": {
    "name": "ipython",
    "version": 3
   },
   "file_extension": ".py",
   "mimetype": "text/x-python",
   "name": "python",
   "nbconvert_exporter": "python",
   "pygments_lexer": "ipython3",
   "version": "3.11.5"
  }
 },
 "nbformat": 4,
 "nbformat_minor": 2
}
